{
 "metadata": {
  "language_info": {
   "codemirror_mode": {
    "name": "ipython",
    "version": 3
   },
   "file_extension": ".py",
   "mimetype": "text/x-python",
   "name": "python",
   "nbconvert_exporter": "python",
   "pygments_lexer": "ipython3",
   "version": "3.8.8-final"
  },
  "orig_nbformat": 2,
  "kernelspec": {
   "name": "cvx",
   "display_name": "cvx",
   "language": "python"
  }
 },
 "nbformat": 4,
 "nbformat_minor": 2,
 "cells": [
  {
   "cell_type": "code",
   "execution_count": null,
   "metadata": {},
   "outputs": [],
   "source": [
    "from cvxopt import matrix, log, div, spdiag, solvers"
   ]
  },
  {
   "cell_type": "code",
   "execution_count": null,
   "metadata": {},
   "outputs": [],
   "source": [
    "# example from \n",
    "# https://cvxopt.org/userguide/solvers.html#problems-with-nonlinear-objectives\n",
    "def F(x = None, z = None):\n",
    "     if x is None:  return 0, matrix(0.0, (3,1))\n",
    "     if max(abs(x)) >= 1.0:  return None\n",
    "     u = 1 - x**2\n",
    "     val = -sum(log(u))\n",
    "     Df = div(2*x, u).T\n",
    "     if z is None:  return val, Df\n",
    "     H = spdiag(2 * z[0] * div(1 + x**2, u**2))\n",
    "     return val, Df, H\n",
    "\n",
    "G = matrix([ [0., -1.,  0.,  0., -21., -11.,   0., -11.,  10.,   8.,   0.,   8., 5.],\n",
    "             [0.,  0., -1.,  0.,   0.,  10.,  16.,  10., -10., -10.,  16., -10., 3.],\n",
    "             [0.,  0.,  0., -1.,  -5.,   2., -17.,   2.,  -6.,   8., -17.,  -7., 6.] ])\n",
    "h = matrix([1.0, 0.0, 0.0, 0.0, 20., 10., 40., 10., 80., 10., 40., 10., 15.])\n",
    "dims = {'l': 0, 'q': [4], 's':  [3]}\n",
    "sol = solvers.cp(F, G, h, dims)\n",
    "print(sol['x'])\n"
   ]
  },
  {
   "source": [
    "## try something simple -- maximize call value given constraints"
   ],
   "cell_type": "markdown",
   "metadata": {}
  },
  {
   "cell_type": "code",
   "execution_count": null,
   "metadata": {},
   "outputs": [],
   "source": [
    "import cvxopt as co\n",
    "import cvxopt.modeling as mdl\n",
    "import numpy as np"
   ]
  },
  {
   "cell_type": "code",
   "execution_count": null,
   "metadata": {},
   "outputs": [],
   "source": [
    "nX = 21\n",
    "xgrid = np.linspace(0,100,nX)\n",
    "strike = 50\n",
    "prob = mdl.variable(nX, 'prob')\n",
    "call_payoff = co.matrix(np.maximum(xgrid -strike, 0.0))\n",
    "# print(call_payoff)\n",
    "call_value = call_payoff.T*prob\n",
    "# print(call_value)\n",
    "total_prob_constraint = (mdl.sum(prob) == 1)\n",
    "pos_prob_constraint = (prob >= 0)\n",
    "expected_value_constraint = (co.matrix(xgrid).T*prob == 50)\n",
    "\n",
    "density_constraint_1 = (mdl.sum(mdl.max(prob - 0.25,0))*nX <= 3.9)\n",
    "\n",
    "all_c = [\n",
    "            total_prob_constraint, \n",
    "            pos_prob_constraint, \n",
    "            expected_value_constraint,\n",
    "            density_constraint_1,\n",
    "         ]\n",
    "\n",
    "op_problem = mdl.op(call_value, all_c)\n",
    "print(op_problem.variables(), op_problem.inequalities(), op_problem.equalities())\n",
    "op_problem.solve()\n",
    "print(op_problem.status)\n",
    "print(op_problem.objective.value())\n",
    "print(prob.value)"
   ]
  },
  {
   "cell_type": "code",
   "execution_count": null,
   "metadata": {},
   "outputs": [],
   "source": [
    "import matplotlib.pyplot as plt\n",
    "plt.plot(prob.value)\n",
    "plt.show()"
   ]
  },
  {
   "cell_type": "code",
   "execution_count": null,
   "metadata": {},
   "outputs": [],
   "source": [
    "from setup_min_measure import *\n",
    "mtg_scale = 1.0\n",
    "model = setup_model(mtg_scale=mtg_scale,\n",
    "                    min_prob=0.0, with_plots=False)\n",
    "\n",
    "berm = setup_berm()\n",
    "q12_init_v = model.q12.reshape(-1).copy()\n",
    "q12_init_d = np.diag(q12_init_v)\n",
    "\n",
    "mtr_rhs = model.standard_constraints(mtg_scale=mtg_scale)\n",
    "scale = [1e2, 1e4, 1]\n",
    "mtr_rhs_z = []\n",
    "for n, (A, rhs) in enumerate(mtr_rhs):\n",
    "    mtr_rhs_z.append(((A*scale[n]) @ q12_init_d, rhs*scale[n]))\n"
   ]
  },
  {
   "cell_type": "code",
   "execution_count": null,
   "metadata": {},
   "outputs": [],
   "source": [
    "As = [A for A, r in mtr_rhs_z]\n",
    "rs = [r.reshape(-1, 1) for A, r in mtr_rhs_z]\n",
    "big_A = np.vstack(As)\n",
    "big_r = np.vstack(rs)\n",
    "print(np.linalg.matrix_rank(big_A), big_A.shape[0])\n"
   ]
  },
  {
   "cell_type": "code",
   "execution_count": null,
   "metadata": {},
   "outputs": [],
   "source": [
    "U,S,Vh = np.linalg.svd(big_A)"
   ]
  },
  {
   "cell_type": "code",
   "execution_count": null,
   "metadata": {},
   "outputs": [],
   "source": [
    "S\n"
   ]
  },
  {
   "cell_type": "code",
   "execution_count": null,
   "metadata": {},
   "outputs": [],
   "source": [
    "U[:,0]"
   ]
  },
  {
   "cell_type": "code",
   "execution_count": null,
   "metadata": {},
   "outputs": [],
   "source": [
    "import scipy.linalg as la\n",
    "rk = sum(np.abs(S) > 1e-16*np.abs(S.max() * max(S.shape)))\n",
    "print(rk)\n",
    "B = U[:rk,:rk] @ la.diagsvd(S[:rk],rk, big_A.shape[1]) @ Vh\n",
    "print(B.shape, np.linalg.matrix_rank(B))"
   ]
  },
  {
   "cell_type": "code",
   "execution_count": null,
   "metadata": {},
   "outputs": [],
   "source": [
    "Ub,Sb,Vhb = np.linalg.svd(B)\n",
    "Sb"
   ]
  },
  {
   "cell_type": "code",
   "execution_count": null,
   "metadata": {},
   "outputs": [],
   "source": [
    "big_r"
   ]
  },
  {
   "cell_type": "code",
   "execution_count": null,
   "metadata": {},
   "outputs": [],
   "source": [
    "((U.T @ big_r)[:rk])"
   ]
  },
  {
   "cell_type": "code",
   "execution_count": null,
   "metadata": {},
   "outputs": [],
   "source": [
    "U[:,:rk] @ ((U.T @ big_r)[:rk])"
   ]
  },
  {
   "cell_type": "code",
   "execution_count": null,
   "metadata": {},
   "outputs": [],
   "source": [
    "np.allclose(Vh @ Vh.T, np.eye(121))"
   ]
  },
  {
   "cell_type": "code",
   "execution_count": null,
   "metadata": {},
   "outputs": [],
   "source": [
    "#B = U[:rk,:rk] @ la.diagsvd(S[:rk], rk, big_A.shape[1]) @ Vh\n",
    "B = la.diagsvd(S[:rk], rk, big_A.shape[1]) @ Vh\n",
    "plt.plot(B[:,::10])\n",
    "plt.show()"
   ]
  },
  {
   "cell_type": "code",
   "execution_count": null,
   "metadata": {},
   "outputs": [],
   "source": [
    "np.sum(np.abs(B) < 1e-16*np.max(B))"
   ]
  },
  {
   "cell_type": "code",
   "execution_count": null,
   "metadata": {},
   "outputs": [],
   "source": [
    "B[np.abs(B) < 1e-8*np.max(B)] = 0"
   ]
  },
  {
   "cell_type": "code",
   "execution_count": null,
   "metadata": {},
   "outputs": [],
   "source": [
    "np.sum(B == 0)"
   ]
  },
  {
   "cell_type": "code",
   "execution_count": null,
   "metadata": {},
   "outputs": [],
   "source": [
    "np.linalg.matrix_rank(B)"
   ]
  },
  {
   "cell_type": "code",
   "execution_count": null,
   "metadata": {},
   "outputs": [],
   "source": [
    "B.shape"
   ]
  },
  {
   "cell_type": "code",
   "execution_count": null,
   "metadata": {},
   "outputs": [],
   "source": [
    "np.linalg.matrix_rank(U[:rk,:rk])"
   ]
  },
  {
   "cell_type": "code",
   "execution_count": null,
   "metadata": {},
   "outputs": [],
   "source": []
  }
 ]
}